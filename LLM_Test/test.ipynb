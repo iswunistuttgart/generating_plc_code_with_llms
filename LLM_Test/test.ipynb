{
 "cells": [
  {
   "cell_type": "code",
   "execution_count": 13,
   "metadata": {},
   "outputs": [],
   "source": [
    "import pandas as pd"
   ]
  },
  {
   "cell_type": "code",
   "execution_count": 14,
   "metadata": {},
   "outputs": [],
   "source": [
    "columns = ['p','f','f1','f3']\n",
    "df1 = pd.read_csv('../Code#1/Bard/first run/BertScore.csv', header=None,names=columns)\n",
    "df2 = pd.read_csv('../Code#1/Bard/second run/BertScore.csv', header=None,names=columns)\n",
    "df3 = pd.read_csv('../Code#1/Bard/third run/BertScore.csv', header=None,names=columns)\n",
    "all_dfs = [df1, df2, df3]"
   ]
  },
  {
   "cell_type": "code",
   "execution_count": 46,
   "metadata": {},
   "outputs": [],
   "source": [
    "median_f3_values = pd.concat([df['f3'] for df in all_dfs], axis=1).median(axis=1)\n",
    "new_df = pd.DataFrame(columns = ['p','f','f1','f3'])\n",
    "for i in range(20):\n",
    "    if median_f3_values[i] == df1.iloc[i]['f3']:\n",
    "        new_df = pd.concat([new_df,df1.iloc[[i]]], ignore_index=True)\n",
    "    elif median_f3_values[i] == df2.iloc[i]['f3']:\n",
    "        new_df = pd.concat([new_df,df2.iloc[[i]]], ignore_index=True)\n",
    "    elif median_f3_values[i] == df3.iloc[i]['f3']:\n",
    "        new_df = pd.concat([new_df,df3.iloc[[i]]], ignore_index=True)\n",
    "        \n",
    "average = new_df.mean()\n",
    "new_df.loc['average'] = average\n",
    "new_df.to_csv('result.csv', index=False,header=False)"
   ]
  },
  {
   "cell_type": "code",
   "execution_count": 2,
   "metadata": {},
   "outputs": [],
   "source": [
    "import pandas as pd\n",
    "columns = ['Precision','Recall','F1','F3']\n",
    "\n",
    "for j in range(1,3):\n",
    "    for llm in [\"ChatGPT_4\", \"ChatGPT_3.5\", \"Bard\", \"CodeLlama\", \"Platypus2\", \"StableCode\"]:\n",
    "        df1 = pd.read_csv(f'../Code#{j}/{llm}/first run/BertScore.csv', header=None,names=columns)\n",
    "        df2 = pd.read_csv(f'../Code#{j}/{llm}/second run/BertScore.csv', header=None,names=columns)\n",
    "        df3 = pd.read_csv(f'../Code#{j}/{llm}/third run/BertScore.csv', header=None,names=columns)\n",
    "        all_dfs = [df1, df2, df3]\n",
    "        \n",
    "        median_f3_values = pd.concat([df['F3'] for df in all_dfs], axis=1).median(axis=1)\n",
    "        new_df = pd.DataFrame(columns = columns)\n",
    "        for i in range(21):\n",
    "            if median_f3_values[i] == df1.iloc[i]['F3']:\n",
    "                new_df = pd.concat([new_df,df1.iloc[[i]]], ignore_index=True)\n",
    "            elif median_f3_values[i] == df2.iloc[i]['F3']:\n",
    "                new_df = pd.concat([new_df,df2.iloc[[i]]], ignore_index=True)\n",
    "            elif median_f3_values[i] == df3.iloc[i]['F3']:\n",
    "                new_df = pd.concat([new_df,df3.iloc[[i]]], ignore_index=True)\n",
    "                \n",
    "        average = new_df.mean()\n",
    "        new_df.loc['average'] = average\n",
    "        new_df.to_csv(f'../Code#{j}/{llm}/BertScore.csv', index=True,header=True)"
   ]
  },
  {
   "cell_type": "code",
   "execution_count": 11,
   "metadata": {},
   "outputs": [],
   "source": [
    "import pandas as pd\n",
    "\n",
    "for i in range(1,3):\n",
    "    for llm in [\"ChatGPT_4\", \"ChatGPT_3.5\", \"Bard\", \"CodeLlama\", \"Platypus2\", \"StableCode\"]:\n",
    "        times = []\n",
    "        for j in range(1,22):\n",
    "            time = []\n",
    "            for run in [\"first run\", \"second run\", \"third run\"]:\n",
    "                with open(f'../Code#{i}/{llm}/{run}/{j}.st','r') as file:\n",
    "                    t = file.readline().replace(\"//\",'')\n",
    "                    t = t.replace('s','')\n",
    "                    t = float(t.strip())\n",
    "                    time.append(t)\n",
    "            times.append(time)\n",
    "        df = pd.DataFrame(times)\n",
    "        # df = df.transpose()\n",
    "        # df.to_csv(f'../Code#{i}/{llm}/time.csv',header=False,index=False)\n",
    "        mean = df.mean()\n",
    "        # print(mean)\n",
    "        df.loc['average'] = mean\n",
    "        df.to_csv(f'../Code#{i}/{llm}/time.csv',header=False,index=False)\n",
    "        # median.to_csv(f'../Code#{i}/{llm}/median-time.csv',header=False,index=False)"
   ]
  },
  {
   "cell_type": "code",
   "execution_count": 1,
   "metadata": {},
   "outputs": [
    {
     "name": "stdout",
     "output_type": "stream",
     "text": [
      "[0.0, 0.0, 0.0]\n",
      "[0.18333333333333346, 0.33559322033898287, 0.4616014026884864]\n",
      "[0.4666666666666668, 0.719774011299435, 0.8550555230859147]\n",
      "[0.13333333333333341, 0.2508474576271186, 0.35417884278199896]\n",
      "[0.0, 0.0, 0.0]\n",
      "[0.0, 0.0, 0.0]\n",
      "-----------------------\n",
      "[0.06666666666666665, 0.12994350282485878, 0.18994739918176506]\n",
      "[0.3666666666666667, 0.6028248587570622, 0.7534774985388659]\n",
      "[0.5833333333333335, 0.8305084745762711, 0.9327878433664524]\n",
      "[0.050000000000000044, 0.09830508474576272, 0.1449444769140853]\n",
      "[0.0, 0.0, 0.0]\n",
      "[0.0, 0.0, 0.0]\n"
     ]
    }
   ],
   "source": [
    "import numpy as np\n",
    "def pass_at_k(n, c, k):\n",
    "    \"\"\"\n",
    "    : param n : total number of samples\n",
    "    : param c : number of correct samples\n",
    "    : param k : k in pass@k\n",
    "    \"\"\"\n",
    "    if n - c < k :\n",
    "        return 1.0\n",
    "    return 1.0 - np.prod(1.0 - k / np.arange(n - c + 1 , n + 1 ) )\n",
    "\n",
    "list = [0,11,28,8,0,0]\n",
    "for a in list:\n",
    "    b = []\n",
    "    for i in range(1,4):\n",
    "        k = pass_at_k(60,a,i)\n",
    "        b.append(k)\n",
    "    print(b)\n",
    "\n",
    "print('-----------------------')\n",
    "list = [4,22,35,3,0,0]\n",
    "for a in list:\n",
    "    b = []\n",
    "    for i in range(1,4):\n",
    "        k = pass_at_k(60,a,i)\n",
    "        b.append(k)\n",
    "    print(b)"
   ]
  },
  {
   "cell_type": "code",
   "execution_count": 12,
   "metadata": {},
   "outputs": [],
   "source": [
    "import openai\n",
    "openai.api_key = os.environ['OPENAI_KEY']\n",
    "\n",
    "# st = ' '\n",
    "# prompt = input('Please input the instruction:\\n') + '\\n'\n",
    "# while st != '':\n",
    "#   st = input()\n",
    "#   prompt += st + '\\n'\n",
    "# print(prompt)\n",
    "completion = openai.ChatCompletion.create(\n",
    "  model=\"gpt-3.5-turbo\",\n",
    "  messages=[\n",
    "    {\"role\": \"system\", \"content\": \"You are a helpful assistant.\"},\n",
    "    {\"role\": \"user\", \"content\": \"can you generate me an image?\"}\n",
    "  ]\n",
    ")\n"
   ]
  },
  {
   "cell_type": "code",
   "execution_count": 13,
   "metadata": {},
   "outputs": [
    {
     "name": "stdout",
     "output_type": "stream",
     "text": [
      "As an AI text-based model, I don't have the capability to generate images. I can, however, assist with describing how to create one or help guide you through a process but I can't physically create images.\n"
     ]
    }
   ],
   "source": [
    "print(completion.choices[0].message.content)"
   ]
  },
  {
   "cell_type": "code",
   "execution_count": 4,
   "metadata": {},
   "outputs": [
    {
     "name": "stdout",
     "output_type": "stream",
     "text": [
      "Bard 0.07345865396037644\n",
      "GPT-3.5 0.38840068904776054\n",
      "GPT-4 0.6013383461902494\n",
      "Code Llama 0.05518636904326793\n",
      "Platypus2 0.0\n",
      "StableCode 0.0\n"
     ]
    }
   ],
   "source": [
    "def f3(a,b):\n",
    "    return (10*a*b)/(9*a+b)\n",
    "\n",
    "print('Bard',f3(0.83440,0.0667))\n",
    "print('GPT-3.5',f3(0.83099,0.3667))\n",
    "print('GPT-4',f3(0.83325,0.5833))\n",
    "print('Code Llama',f3(0.83045,0.05))\n",
    "print('Platypus2',f3(0.77011,0.0))\n",
    "print('StableCode',f3(0.73888,0.0))"
   ]
  }
 ],
 "metadata": {
  "kernelspec": {
   "display_name": "Python 3",
   "language": "python",
   "name": "python3"
  },
  "language_info": {
   "codemirror_mode": {
    "name": "ipython",
    "version": 3
   },
   "file_extension": ".py",
   "mimetype": "text/x-python",
   "name": "python",
   "nbconvert_exporter": "python",
   "pygments_lexer": "ipython3",
   "version": "3.10.11"
  }
 },
 "nbformat": 4,
 "nbformat_minor": 2
}
